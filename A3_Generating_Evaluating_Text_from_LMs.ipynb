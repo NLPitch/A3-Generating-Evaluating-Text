{
 "cells": [
  {
   "cell_type": "code",
   "execution_count": 1,
   "id": "oriental-prompt",
   "metadata": {},
   "outputs": [
    {
     "name": "stdout",
     "output_type": "stream",
     "text": [
      "Fri Mar  8 12:04:29 2024       \n",
      "+-----------------------------------------------------------------------------+\n",
      "| NVIDIA-SMI 470.103.01   Driver Version: 470.103.01   CUDA Version: 11.4     |\n",
      "|-------------------------------+----------------------+----------------------+\n",
      "| GPU  Name        Persistence-M| Bus-Id        Disp.A | Volatile Uncorr. ECC |\n",
      "| Fan  Temp  Perf  Pwr:Usage/Cap|         Memory-Usage | GPU-Util  Compute M. |\n",
      "|                               |                      |               MIG M. |\n",
      "|===============================+======================+======================|\n",
      "|   0  NVIDIA A40          On   | 00000000:48:00.0 Off |                    0 |\n",
      "|  0%   27C    P8    22W / 300W |      0MiB / 45634MiB |      0%      Default |\n",
      "|                               |                      |                  N/A |\n",
      "+-------------------------------+----------------------+----------------------+\n",
      "                                                                               \n",
      "+-----------------------------------------------------------------------------+\n",
      "| Processes:                                                                  |\n",
      "|  GPU   GI   CI        PID   Type   Process name                  GPU Memory |\n",
      "|        ID   ID                                                   Usage      |\n",
      "|=============================================================================|\n",
      "|  No running processes found                                                 |\n",
      "+-----------------------------------------------------------------------------+\n"
     ]
    }
   ],
   "source": [
    "!nvidia-smi"
   ]
  },
  {
   "cell_type": "code",
   "execution_count": 2,
   "id": "colored-savannah",
   "metadata": {},
   "outputs": [
    {
     "data": {
      "text/plain": [
       "'2.1.2+cu118'"
      ]
     },
     "execution_count": 2,
     "metadata": {},
     "output_type": "execute_result"
    }
   ],
   "source": [
    "import torch\n",
    "\n",
    "torch.__version__"
   ]
  },
  {
   "cell_type": "code",
   "execution_count": 3,
   "id": "honey-reminder",
   "metadata": {},
   "outputs": [
    {
     "name": "stdout",
     "output_type": "stream",
     "text": [
      "Defaulting to user installation because normal site-packages is not writeable\n",
      "\u001b[33mWARNING: Ignoring invalid distribution -orch (/panfs/jay/groups/28/yaoyi/pyo00005/.local/lib/python3.8/site-packages)\u001b[0m\u001b[33m\n",
      "\u001b[0m\u001b[33mWARNING: Ignoring invalid distribution -orch (/panfs/jay/groups/28/yaoyi/pyo00005/.local/lib/python3.8/site-packages)\u001b[0m\u001b[33m\n",
      "\u001b[0mRequirement already satisfied: transformers in /panfs/jay/groups/28/yaoyi/pyo00005/.local/lib/python3.8/site-packages (4.33.3)\n",
      "Requirement already satisfied: datasets in /panfs/jay/groups/28/yaoyi/pyo00005/.local/lib/python3.8/site-packages (2.16.1)\n",
      "Requirement already satisfied: evaluate in /panfs/jay/groups/28/yaoyi/pyo00005/.local/lib/python3.8/site-packages (0.4.1)\n",
      "Requirement already satisfied: scikit-learn in /panfs/jay/groups/28/yaoyi/pyo00005/.local/lib/python3.8/site-packages (1.3.1)\n",
      "Requirement already satisfied: filelock in /panfs/jay/groups/28/yaoyi/pyo00005/.local/lib/python3.8/site-packages (from transformers) (3.13.1)\n",
      "Requirement already satisfied: huggingface-hub<1.0,>=0.15.1 in /panfs/jay/groups/28/yaoyi/pyo00005/.local/lib/python3.8/site-packages (from transformers) (0.20.3)\n",
      "Requirement already satisfied: numpy>=1.17 in /panfs/jay/groups/28/yaoyi/pyo00005/.local/lib/python3.8/site-packages (from transformers) (1.22.1)\n",
      "Requirement already satisfied: packaging>=20.0 in /panfs/jay/groups/28/yaoyi/pyo00005/.local/lib/python3.8/site-packages (from transformers) (23.2)\n",
      "Requirement already satisfied: pyyaml>=5.1 in /panfs/jay/groups/28/yaoyi/pyo00005/.local/lib/python3.8/site-packages (from transformers) (6.0.1)\n",
      "Requirement already satisfied: regex!=2019.12.17 in /panfs/jay/groups/28/yaoyi/pyo00005/.local/lib/python3.8/site-packages (from transformers) (2023.10.3)\n",
      "Requirement already satisfied: requests in /common/software/install/migrated/anaconda/miniconda3_4.8.3-jupyter/lib/python3.8/site-packages (from transformers) (2.23.0)\n",
      "Requirement already satisfied: tokenizers!=0.11.3,<0.14,>=0.11.1 in /panfs/jay/groups/28/yaoyi/pyo00005/.local/lib/python3.8/site-packages (from transformers) (0.13.3)\n",
      "Requirement already satisfied: safetensors>=0.3.1 in /panfs/jay/groups/28/yaoyi/pyo00005/.local/lib/python3.8/site-packages (from transformers) (0.3.3)\n",
      "Requirement already satisfied: tqdm>=4.27 in /panfs/jay/groups/28/yaoyi/pyo00005/.local/lib/python3.8/site-packages (from transformers) (4.66.1)\n",
      "Requirement already satisfied: pyarrow>=8.0.0 in /panfs/jay/groups/28/yaoyi/pyo00005/.local/lib/python3.8/site-packages (from datasets) (14.0.1)\n",
      "Requirement already satisfied: pyarrow-hotfix in /panfs/jay/groups/28/yaoyi/pyo00005/.local/lib/python3.8/site-packages (from datasets) (0.6)\n",
      "Requirement already satisfied: dill<0.3.8,>=0.3.0 in /panfs/jay/groups/28/yaoyi/pyo00005/.local/lib/python3.8/site-packages (from datasets) (0.3.7)\n",
      "Requirement already satisfied: pandas in /panfs/jay/groups/28/yaoyi/pyo00005/.local/lib/python3.8/site-packages (from datasets) (2.0.3)\n",
      "Requirement already satisfied: xxhash in /panfs/jay/groups/28/yaoyi/pyo00005/.local/lib/python3.8/site-packages (from datasets) (3.4.1)\n",
      "Requirement already satisfied: multiprocess in /panfs/jay/groups/28/yaoyi/pyo00005/.local/lib/python3.8/site-packages (from datasets) (0.70.15)\n",
      "Requirement already satisfied: fsspec<=2023.10.0,>=2023.1.0 in /panfs/jay/groups/28/yaoyi/pyo00005/.local/lib/python3.8/site-packages (from fsspec[http]<=2023.10.0,>=2023.1.0->datasets) (2023.10.0)\n",
      "Requirement already satisfied: aiohttp in /panfs/jay/groups/28/yaoyi/pyo00005/.local/lib/python3.8/site-packages (from datasets) (3.9.3)\n",
      "Requirement already satisfied: responses<0.19 in /panfs/jay/groups/28/yaoyi/pyo00005/.local/lib/python3.8/site-packages (from evaluate) (0.18.0)\n",
      "Requirement already satisfied: scipy>=1.5.0 in /panfs/jay/groups/28/yaoyi/pyo00005/.local/lib/python3.8/site-packages (from scikit-learn) (1.10.1)\n",
      "Requirement already satisfied: joblib>=1.1.1 in /panfs/jay/groups/28/yaoyi/pyo00005/.local/lib/python3.8/site-packages (from scikit-learn) (1.3.2)\n",
      "Requirement already satisfied: threadpoolctl>=2.0.0 in /panfs/jay/groups/28/yaoyi/pyo00005/.local/lib/python3.8/site-packages (from scikit-learn) (3.2.0)\n",
      "Requirement already satisfied: aiosignal>=1.1.2 in /panfs/jay/groups/28/yaoyi/pyo00005/.local/lib/python3.8/site-packages (from aiohttp->datasets) (1.3.1)\n",
      "Requirement already satisfied: attrs>=17.3.0 in /common/software/install/migrated/anaconda/miniconda3_4.8.3-jupyter/lib/python3.8/site-packages (from aiohttp->datasets) (20.3.0)\n",
      "Requirement already satisfied: frozenlist>=1.1.1 in /panfs/jay/groups/28/yaoyi/pyo00005/.local/lib/python3.8/site-packages (from aiohttp->datasets) (1.4.1)\n",
      "Requirement already satisfied: multidict<7.0,>=4.5 in /panfs/jay/groups/28/yaoyi/pyo00005/.local/lib/python3.8/site-packages (from aiohttp->datasets) (6.0.5)\n",
      "Requirement already satisfied: yarl<2.0,>=1.0 in /panfs/jay/groups/28/yaoyi/pyo00005/.local/lib/python3.8/site-packages (from aiohttp->datasets) (1.9.4)\n",
      "Requirement already satisfied: async-timeout<5.0,>=4.0 in /panfs/jay/groups/28/yaoyi/pyo00005/.local/lib/python3.8/site-packages (from aiohttp->datasets) (4.0.3)\n",
      "Requirement already satisfied: typing-extensions>=3.7.4.3 in /panfs/jay/groups/28/yaoyi/pyo00005/.local/lib/python3.8/site-packages (from huggingface-hub<1.0,>=0.15.1->transformers) (4.9.0)\n",
      "Requirement already satisfied: chardet<4,>=3.0.2 in /common/software/install/migrated/anaconda/miniconda3_4.8.3-jupyter/lib/python3.8/site-packages (from requests->transformers) (3.0.4)\n",
      "Requirement already satisfied: idna<3,>=2.5 in /common/software/install/migrated/anaconda/miniconda3_4.8.3-jupyter/lib/python3.8/site-packages (from requests->transformers) (2.9)\n",
      "Requirement already satisfied: urllib3!=1.25.0,!=1.25.1,<1.26,>=1.21.1 in /panfs/jay/groups/28/yaoyi/pyo00005/.local/lib/python3.8/site-packages (from requests->transformers) (1.25.11)\n",
      "Requirement already satisfied: certifi>=2017.4.17 in /common/software/install/migrated/anaconda/miniconda3_4.8.3-jupyter/lib/python3.8/site-packages (from requests->transformers) (2020.12.5)\n",
      "Requirement already satisfied: python-dateutil>=2.8.2 in /panfs/jay/groups/28/yaoyi/pyo00005/.local/lib/python3.8/site-packages (from pandas->datasets) (2.8.2)\n",
      "Requirement already satisfied: pytz>=2020.1 in /panfs/jay/groups/28/yaoyi/pyo00005/.local/lib/python3.8/site-packages (from pandas->datasets) (2023.3.post1)\n",
      "Requirement already satisfied: tzdata>=2022.1 in /panfs/jay/groups/28/yaoyi/pyo00005/.local/lib/python3.8/site-packages (from pandas->datasets) (2023.3)\n",
      "Requirement already satisfied: six>=1.5 in /common/software/install/migrated/anaconda/miniconda3_4.8.3-jupyter/lib/python3.8/site-packages (from python-dateutil>=2.8.2->pandas->datasets) (1.14.0)\n",
      "\u001b[33mWARNING: Ignoring invalid distribution -orch (/panfs/jay/groups/28/yaoyi/pyo00005/.local/lib/python3.8/site-packages)\u001b[0m\u001b[33m\n",
      "\u001b[0m\u001b[33mWARNING: Ignoring invalid distribution -orch (/panfs/jay/groups/28/yaoyi/pyo00005/.local/lib/python3.8/site-packages)\u001b[0m\u001b[33m\n",
      "\u001b[0mDefaulting to user installation because normal site-packages is not writeable\n",
      "\u001b[33mWARNING: Ignoring invalid distribution -orch (/panfs/jay/groups/28/yaoyi/pyo00005/.local/lib/python3.8/site-packages)\u001b[0m\u001b[33m\n",
      "\u001b[0m\u001b[33mWARNING: Ignoring invalid distribution -orch (/panfs/jay/groups/28/yaoyi/pyo00005/.local/lib/python3.8/site-packages)\u001b[0m\u001b[33m\n",
      "\u001b[0mRequirement already satisfied: accelerate in /panfs/jay/groups/28/yaoyi/pyo00005/.local/lib/python3.8/site-packages (0.27.2)\n",
      "Requirement already satisfied: numpy>=1.17 in /panfs/jay/groups/28/yaoyi/pyo00005/.local/lib/python3.8/site-packages (from accelerate) (1.22.1)\n",
      "Requirement already satisfied: packaging>=20.0 in /panfs/jay/groups/28/yaoyi/pyo00005/.local/lib/python3.8/site-packages (from accelerate) (23.2)\n",
      "Requirement already satisfied: psutil in /panfs/jay/groups/28/yaoyi/pyo00005/.local/lib/python3.8/site-packages (from accelerate) (5.9.8)\n",
      "Requirement already satisfied: pyyaml in /panfs/jay/groups/28/yaoyi/pyo00005/.local/lib/python3.8/site-packages (from accelerate) (6.0.1)\n",
      "Requirement already satisfied: torch>=1.10.0 in /panfs/jay/groups/28/yaoyi/pyo00005/.local/lib/python3.8/site-packages (from accelerate) (2.1.2+cu118)\n",
      "Requirement already satisfied: huggingface-hub in /panfs/jay/groups/28/yaoyi/pyo00005/.local/lib/python3.8/site-packages (from accelerate) (0.20.3)\n",
      "Requirement already satisfied: safetensors>=0.3.1 in /panfs/jay/groups/28/yaoyi/pyo00005/.local/lib/python3.8/site-packages (from accelerate) (0.3.3)\n"
     ]
    },
    {
     "name": "stdout",
     "output_type": "stream",
     "text": [
      "Requirement already satisfied: filelock in /panfs/jay/groups/28/yaoyi/pyo00005/.local/lib/python3.8/site-packages (from torch>=1.10.0->accelerate) (3.13.1)\n",
      "Requirement already satisfied: typing-extensions in /panfs/jay/groups/28/yaoyi/pyo00005/.local/lib/python3.8/site-packages (from torch>=1.10.0->accelerate) (4.9.0)\n",
      "Requirement already satisfied: sympy in /panfs/jay/groups/28/yaoyi/pyo00005/.local/lib/python3.8/site-packages (from torch>=1.10.0->accelerate) (1.12)\n",
      "Requirement already satisfied: networkx in /panfs/jay/groups/28/yaoyi/pyo00005/.local/lib/python3.8/site-packages (from torch>=1.10.0->accelerate) (3.1)\n",
      "Requirement already satisfied: jinja2 in /common/software/install/migrated/anaconda/miniconda3_4.8.3-jupyter/lib/python3.8/site-packages (from torch>=1.10.0->accelerate) (2.11.2)\n",
      "Requirement already satisfied: fsspec in /panfs/jay/groups/28/yaoyi/pyo00005/.local/lib/python3.8/site-packages (from torch>=1.10.0->accelerate) (2023.10.0)\n",
      "Requirement already satisfied: triton==2.1.0 in /panfs/jay/groups/28/yaoyi/pyo00005/.local/lib/python3.8/site-packages (from torch>=1.10.0->accelerate) (2.1.0)\n",
      "Requirement already satisfied: requests in /common/software/install/migrated/anaconda/miniconda3_4.8.3-jupyter/lib/python3.8/site-packages (from huggingface-hub->accelerate) (2.23.0)\n",
      "Requirement already satisfied: tqdm>=4.42.1 in /panfs/jay/groups/28/yaoyi/pyo00005/.local/lib/python3.8/site-packages (from huggingface-hub->accelerate) (4.66.1)\n",
      "Requirement already satisfied: MarkupSafe>=0.23 in /common/software/install/migrated/anaconda/miniconda3_4.8.3-jupyter/lib/python3.8/site-packages (from jinja2->torch>=1.10.0->accelerate) (1.1.1)\n",
      "Requirement already satisfied: chardet<4,>=3.0.2 in /common/software/install/migrated/anaconda/miniconda3_4.8.3-jupyter/lib/python3.8/site-packages (from requests->huggingface-hub->accelerate) (3.0.4)\n",
      "Requirement already satisfied: idna<3,>=2.5 in /common/software/install/migrated/anaconda/miniconda3_4.8.3-jupyter/lib/python3.8/site-packages (from requests->huggingface-hub->accelerate) (2.9)\n",
      "Requirement already satisfied: urllib3!=1.25.0,!=1.25.1,<1.26,>=1.21.1 in /panfs/jay/groups/28/yaoyi/pyo00005/.local/lib/python3.8/site-packages (from requests->huggingface-hub->accelerate) (1.25.11)\n",
      "Requirement already satisfied: certifi>=2017.4.17 in /common/software/install/migrated/anaconda/miniconda3_4.8.3-jupyter/lib/python3.8/site-packages (from requests->huggingface-hub->accelerate) (2020.12.5)\n",
      "Requirement already satisfied: mpmath>=0.19 in /panfs/jay/groups/28/yaoyi/pyo00005/.local/lib/python3.8/site-packages (from sympy->torch>=1.10.0->accelerate) (1.3.0)\n",
      "\u001b[33mWARNING: Ignoring invalid distribution -orch (/panfs/jay/groups/28/yaoyi/pyo00005/.local/lib/python3.8/site-packages)\u001b[0m\u001b[33m\n",
      "\u001b[0m\u001b[33mWARNING: Ignoring invalid distribution -orch (/panfs/jay/groups/28/yaoyi/pyo00005/.local/lib/python3.8/site-packages)\u001b[0m\u001b[33m\n",
      "\u001b[0mDefaulting to user installation because normal site-packages is not writeable\n",
      "\u001b[33mWARNING: Ignoring invalid distribution -orch (/panfs/jay/groups/28/yaoyi/pyo00005/.local/lib/python3.8/site-packages)\u001b[0m\u001b[33m\n",
      "\u001b[0m\u001b[33mWARNING: Ignoring invalid distribution -orch (/panfs/jay/groups/28/yaoyi/pyo00005/.local/lib/python3.8/site-packages)\u001b[0m\u001b[33m\n",
      "\u001b[0mRequirement already satisfied: pandas in /panfs/jay/groups/28/yaoyi/pyo00005/.local/lib/python3.8/site-packages (2.0.3)\n",
      "Requirement already satisfied: polars in /panfs/jay/groups/28/yaoyi/pyo00005/.local/lib/python3.8/site-packages (0.19.19)\n",
      "Requirement already satisfied: pickle5 in /panfs/jay/groups/28/yaoyi/pyo00005/.local/lib/python3.8/site-packages (0.0.11)\n",
      "Requirement already satisfied: tabulate in /panfs/jay/groups/28/yaoyi/pyo00005/.local/lib/python3.8/site-packages (0.9.0)\n",
      "Requirement already satisfied: python-dateutil>=2.8.2 in /panfs/jay/groups/28/yaoyi/pyo00005/.local/lib/python3.8/site-packages (from pandas) (2.8.2)\n",
      "Requirement already satisfied: pytz>=2020.1 in /panfs/jay/groups/28/yaoyi/pyo00005/.local/lib/python3.8/site-packages (from pandas) (2023.3.post1)\n",
      "Requirement already satisfied: tzdata>=2022.1 in /panfs/jay/groups/28/yaoyi/pyo00005/.local/lib/python3.8/site-packages (from pandas) (2023.3)\n",
      "Requirement already satisfied: numpy>=1.20.3 in /panfs/jay/groups/28/yaoyi/pyo00005/.local/lib/python3.8/site-packages (from pandas) (1.22.1)\n",
      "Requirement already satisfied: six>=1.5 in /common/software/install/migrated/anaconda/miniconda3_4.8.3-jupyter/lib/python3.8/site-packages (from python-dateutil>=2.8.2->pandas) (1.14.0)\n",
      "\u001b[33mWARNING: Ignoring invalid distribution -orch (/panfs/jay/groups/28/yaoyi/pyo00005/.local/lib/python3.8/site-packages)\u001b[0m\u001b[33m\n",
      "\u001b[0m\u001b[33mWARNING: Ignoring invalid distribution -orch (/panfs/jay/groups/28/yaoyi/pyo00005/.local/lib/python3.8/site-packages)\u001b[0m\u001b[33m\n",
      "\u001b[0mDefaulting to user installation because normal site-packages is not writeable\n",
      "\u001b[33mWARNING: Ignoring invalid distribution -orch (/panfs/jay/groups/28/yaoyi/pyo00005/.local/lib/python3.8/site-packages)\u001b[0m\u001b[33m\n",
      "\u001b[0m\u001b[33mWARNING: Ignoring invalid distribution -orch (/panfs/jay/groups/28/yaoyi/pyo00005/.local/lib/python3.8/site-packages)\u001b[0m\u001b[33m\n",
      "\u001b[0mRequirement already satisfied: wandb in /panfs/jay/groups/28/yaoyi/pyo00005/.local/lib/python3.8/site-packages (0.16.3)\n",
      "Requirement already satisfied: tqdm in /panfs/jay/groups/28/yaoyi/pyo00005/.local/lib/python3.8/site-packages (4.66.1)\n",
      "Requirement already satisfied: Click!=8.0.0,>=7.1 in /panfs/jay/groups/28/yaoyi/pyo00005/.local/lib/python3.8/site-packages (from wandb) (8.1.7)\n",
      "Requirement already satisfied: GitPython!=3.1.29,>=1.0.0 in /panfs/jay/groups/28/yaoyi/pyo00005/.local/lib/python3.8/site-packages (from wandb) (3.1.41)\n",
      "Requirement already satisfied: requests<3,>=2.0.0 in /common/software/install/migrated/anaconda/miniconda3_4.8.3-jupyter/lib/python3.8/site-packages (from wandb) (2.23.0)\n",
      "Requirement already satisfied: psutil>=5.0.0 in /panfs/jay/groups/28/yaoyi/pyo00005/.local/lib/python3.8/site-packages (from wandb) (5.9.8)\n",
      "Requirement already satisfied: sentry-sdk>=1.0.0 in /panfs/jay/groups/28/yaoyi/pyo00005/.local/lib/python3.8/site-packages (from wandb) (1.9.0)\n",
      "Requirement already satisfied: docker-pycreds>=0.4.0 in /panfs/jay/groups/28/yaoyi/pyo00005/.local/lib/python3.8/site-packages (from wandb) (0.4.0)\n",
      "Requirement already satisfied: PyYAML in /panfs/jay/groups/28/yaoyi/pyo00005/.local/lib/python3.8/site-packages (from wandb) (6.0.1)\n",
      "Requirement already satisfied: setproctitle in /panfs/jay/groups/28/yaoyi/pyo00005/.local/lib/python3.8/site-packages (from wandb) (1.3.3)\n",
      "Requirement already satisfied: setuptools in /common/software/install/migrated/anaconda/miniconda3_4.8.3-jupyter/lib/python3.8/site-packages (from wandb) (46.4.0.post20200518)\n",
      "Requirement already satisfied: appdirs>=1.4.3 in /panfs/jay/groups/28/yaoyi/pyo00005/.local/lib/python3.8/site-packages (from wandb) (1.4.4)\n",
      "Requirement already satisfied: typing-extensions in /panfs/jay/groups/28/yaoyi/pyo00005/.local/lib/python3.8/site-packages (from wandb) (4.9.0)\n",
      "Requirement already satisfied: protobuf!=4.21.0,<5,>=3.12.0 in /panfs/jay/groups/28/yaoyi/pyo00005/.local/lib/python3.8/site-packages (from wandb) (4.24.3)\n",
      "Requirement already satisfied: six>=1.4.0 in /common/software/install/migrated/anaconda/miniconda3_4.8.3-jupyter/lib/python3.8/site-packages (from docker-pycreds>=0.4.0->wandb) (1.14.0)\n",
      "Requirement already satisfied: gitdb<5,>=4.0.1 in /panfs/jay/groups/28/yaoyi/pyo00005/.local/lib/python3.8/site-packages (from GitPython!=3.1.29,>=1.0.0->wandb) (4.0.11)\n",
      "Requirement already satisfied: chardet<4,>=3.0.2 in /common/software/install/migrated/anaconda/miniconda3_4.8.3-jupyter/lib/python3.8/site-packages (from requests<3,>=2.0.0->wandb) (3.0.4)\n",
      "Requirement already satisfied: idna<3,>=2.5 in /common/software/install/migrated/anaconda/miniconda3_4.8.3-jupyter/lib/python3.8/site-packages (from requests<3,>=2.0.0->wandb) (2.9)\n",
      "Requirement already satisfied: urllib3!=1.25.0,!=1.25.1,<1.26,>=1.21.1 in /panfs/jay/groups/28/yaoyi/pyo00005/.local/lib/python3.8/site-packages (from requests<3,>=2.0.0->wandb) (1.25.11)\n",
      "Requirement already satisfied: certifi>=2017.4.17 in /common/software/install/migrated/anaconda/miniconda3_4.8.3-jupyter/lib/python3.8/site-packages (from requests<3,>=2.0.0->wandb) (2020.12.5)\n"
     ]
    },
    {
     "name": "stdout",
     "output_type": "stream",
     "text": [
      "Requirement already satisfied: smmap<6,>=3.0.1 in /panfs/jay/groups/28/yaoyi/pyo00005/.local/lib/python3.8/site-packages (from gitdb<5,>=4.0.1->GitPython!=3.1.29,>=1.0.0->wandb) (5.0.1)\n",
      "\u001b[33mWARNING: Ignoring invalid distribution -orch (/panfs/jay/groups/28/yaoyi/pyo00005/.local/lib/python3.8/site-packages)\u001b[0m\u001b[33m\n",
      "\u001b[0m\u001b[33mWARNING: Ignoring invalid distribution -orch (/panfs/jay/groups/28/yaoyi/pyo00005/.local/lib/python3.8/site-packages)\u001b[0m\u001b[33m\n",
      "\u001b[0m"
     ]
    }
   ],
   "source": [
    "# Installing necessary libraries\n",
    "\n",
    "!pip install transformers datasets evaluate scikit-learn\n",
    "!pip install accelerate -U\n",
    "!pip install pandas polars pickle5 tabulate\n",
    "!pip install wandb tqdm"
   ]
  },
  {
   "cell_type": "code",
   "execution_count": 4,
   "id": "verified-visitor",
   "metadata": {},
   "outputs": [
    {
     "name": "stdout",
     "output_type": "stream",
     "text": [
      "cuda:0\n"
     ]
    }
   ],
   "source": [
    "# Checking if system is running on cuda\n",
    "\n",
    "if torch.cuda.is_available():\n",
    "  device = torch.device(\"cuda:0\")\n",
    "else:\n",
    "  device = torch.device(\"cpu\")\n",
    "\n",
    "print(device)"
   ]
  },
  {
   "cell_type": "markdown",
   "id": "spread-allowance",
   "metadata": {},
   "source": [
    "Task1: Implementation of Decoding Algorithms (Jaeeun Lee)"
   ]
  },
  {
   "cell_type": "code",
   "execution_count": 5,
   "id": "ready-uncertainty",
   "metadata": {},
   "outputs": [],
   "source": [
    "# Importing libraries \n",
    "from transformers import (\n",
    "    AutoTokenizer,\n",
    "    AutoModelForCausalLM\n",
    ")\n",
    "from transformers import logging\n",
    "import torch\n",
    "import pandas as pd\n",
    "\n",
    "logging.set_verbosity_error()# Suppress warning"
   ]
  },
  {
   "cell_type": "code",
   "execution_count": 6,
   "id": "unlikely-virtue",
   "metadata": {},
   "outputs": [],
   "source": [
    "# Choosing tokenizer and model\n",
    "tokenizer = AutoTokenizer.from_pretrained(\"gpt2\")\n",
    "model = AutoModelForCausalLM.from_pretrained(\"gpt2\")\n",
    "model.generation_config.pad_token_id = model.generation_config.eos_token_id"
   ]
  },
  {
   "cell_type": "code",
   "execution_count": 7,
   "id": "norman-custom",
   "metadata": {},
   "outputs": [],
   "source": [
    "# Prompts and decoding algorithms\n",
    "prompts = [\n",
    "    \"Today I believe we can finally\",\n",
    "    \"In a world full of chaos\",\n",
    "    \"The future of technology will bring\",\n",
    "    \"When the sun sets\",\n",
    "    \"Once upon a time\"\n",
    "]\n",
    "decoding_algorithms = [\n",
    "    (\"Greedy Search\", {\"do_sample\":False, \"max_length\": 30}),\n",
    "    (\"Beam Search\", {\"num_beams\": 5, \"max_length\": 30, \"early_stopping\": True}),\n",
    "    (\"Top-K Sampling\", {\"do_sample\": True, \"max_length\": 30, \"top_k\": 50}),\n",
    "    (\"Top-P Sampling\", {\"do_sample\": True, \"max_length\": 30, \"top_p\": 0.75})]\n",
    "     "
   ]
  },
  {
   "cell_type": "code",
   "execution_count": 8,
   "id": "systematic-dayton",
   "metadata": {},
   "outputs": [],
   "source": [
    "# Function to calculate perplexity\n",
    "def calculate_perplexity(max_length, stride, input_ids):\n",
    "    seq_len = input_ids.size(1)\n",
    "\n",
    "    # max_length = 2 #max length of context\n",
    "    # stride = 1\n",
    "\n",
    "    nlls = []\n",
    "    prev_end_loc = 0\n",
    "    for begin_loc in range(0, seq_len, stride):\n",
    "        end_loc = min(begin_loc + max_length, seq_len)\n",
    "        trg_len = end_loc - prev_end_loc  # may be different from stride on last loop\n",
    "        target_ids = input_ids.clone()\n",
    "        target_ids[:, :-trg_len] = -100\n",
    "\n",
    "        with torch.no_grad():\n",
    "            outputs = model(input_ids, labels=target_ids)\n",
    "            \n",
    "            neg_log_likelihood = outputs.loss\n",
    "\n",
    "        nlls.append(neg_log_likelihood)\n",
    "\n",
    "        prev_end_loc = end_loc\n",
    "        if end_loc == seq_len:\n",
    "            break\n",
    "\n",
    "    ppl = torch.exp(torch.stack(nlls).mean())\n",
    "    return ppl"
   ]
  },
  {
   "cell_type": "code",
   "execution_count": 9,
   "id": "distinct-delicious",
   "metadata": {},
   "outputs": [
    {
     "name": "stderr",
     "output_type": "stream",
     "text": [
      "/home/yaoyi/pyo00005/.local/lib/python3.8/site-packages/transformers/generation/utils.py:1417: UserWarning: You have modified the pretrained model configuration to control generation. This is a deprecated strategy to control generation and will be removed soon, in a future version. Please use a generation configuration file (see https://huggingface.co/docs/transformers/main_classes/text_generation )\n",
      "  warnings.warn(\n"
     ]
    }
   ],
   "source": [
    "# Output text and perplexity for each method\n",
    "results = []\n",
    "\n",
    "for prompt in prompts:\n",
    "    row = {\"Prompt\": prompt}\n",
    "    input_ids = tokenizer(prompt, return_tensors=\"pt\").input_ids\n",
    "    \n",
    "    dict_parameters = {}\n",
    "    dict_perplexity = {}\n",
    "    \n",
    "    # Iterate through all the decoding algorithms\n",
    "    for algorithm_name, params in decoding_algorithms:\n",
    "        outputs = model.generate(input_ids, **params)\n",
    "        generated_text = tokenizer.batch_decode(outputs, skip_special_tokens=True)[0]\n",
    "        output_ids = tokenizer(generated_text, return_tensors=\"pt\").input_ids\n",
    "        perplexity = calculate_perplexity(2,1,output_ids)\n",
    "        row[algorithm_name] = generated_text\n",
    "        \n",
    "        # Add the parameters and perplexity of each decoding algorithm to dict_parameters and dict_perplexity, respectively\n",
    "        dict_parameters[algorithm_name] = params\n",
    "        dict_perplexity[algorithm_name] = perplexity.item()\n",
    "        \n",
    "    row[\"Parameters\"] = dict_parameters\n",
    "    row[\"Perplexity\"] = dict_perplexity\n",
    "    results.append(row)\n",
    "\n",
    "df = pd.DataFrame(results)"
   ]
  },
  {
   "cell_type": "code",
   "execution_count": 10,
   "id": "mysterious-viking",
   "metadata": {},
   "outputs": [],
   "source": [
    "# Saving dataframe as tab1 (task_1) to an excel file\n",
    "df.to_excel('./TeamNLPitch_HW3.xlsx', sheet_name='task_1', engine='openpyxl')"
   ]
  },
  {
   "cell_type": "markdown",
   "id": "twenty-survival",
   "metadata": {},
   "source": [
    "Task2: Decoding for downstream generation tasks (Jiyoon Pyo)"
   ]
  },
  {
   "cell_type": "code",
   "execution_count": 11,
   "id": "sudden-geology",
   "metadata": {},
   "outputs": [
    {
     "name": "stderr",
     "output_type": "stream",
     "text": [
      "/home/yaoyi/pyo00005/.local/lib/python3.8/site-packages/datasets/load.py:1429: FutureWarning: The repository for xsum contains custom code which must be executed to correctly load the dataset. You can inspect the repository content at https://hf.co/datasets/xsum\n",
      "You can avoid this message in future by passing the argument `trust_remote_code=True`.\n",
      "Passing `trust_remote_code=True` will be mandatory to load this dataset from the next major release of `datasets`.\n",
      "  warnings.warn(\n"
     ]
    },
    {
     "name": "stdout",
     "output_type": "stream",
     "text": [
      "shape: (50, 2)\n",
      "┌───────────────────────────────────┬───────────────────────────────────┐\n",
      "│ input_text                        ┆ reference                         │\n",
      "│ ---                               ┆ ---                               │\n",
      "│ str                               ┆ str                               │\n",
      "╞═══════════════════════════════════╪═══════════════════════════════════╡\n",
      "│ Prison Link Cymru had 1,099 refe… ┆ There is a \"chronic\" need for mo… │\n",
      "│ Officers searched properties in … ┆ A man has appeared in court afte… │\n",
      "│ Jordan Hill, Brittany Covington … ┆ Four people accused of kidnappin… │\n",
      "│ The 48-year-old former Arsenal g… ┆ West Brom have appointed Nicky H… │\n",
      "│ …                                 ┆ …                                 │\n",
      "│ Kremlin spokesman Dmitry Peskov … ┆ Russia has said it will carry on… │\n",
      "│ Hooker Hughes, 20, featured for … ┆ Wales Under-20 Grand Slam winner… │\n",
      "│ Russia is fuming, in the words o… ┆ The expulsion of 35 Russian dipl… │\n",
      "│ Instead of fees rising to £9,250… ┆ Scrapping tuition fees in Englan… │\n",
      "└───────────────────────────────────┴───────────────────────────────────┘\n"
     ]
    }
   ],
   "source": [
    "# Loading the XSUM dataset from Huggingface and converting it into a dataframe\n",
    "# Since we are using a pretrained model, will only load the test dataset and filter out the first 50\n",
    "import polars as pl\n",
    "from datasets import load_dataset\n",
    "\n",
    "dataset = load_dataset(\"xsum\")\n",
    "test_data = dataset['test']\n",
    "\n",
    "pl_xsum_dataset = pl.DataFrame(\n",
    "    {\n",
    "        'input_text':test_data['document'],\n",
    "        'reference': test_data['summary']\n",
    "    }\n",
    ").head(50)\n",
    "\n",
    "print(pl_xsum_dataset)"
   ]
  },
  {
   "cell_type": "code",
   "execution_count": 12,
   "id": "indie-clothing",
   "metadata": {},
   "outputs": [],
   "source": [
    "# Loading T% (small) model pretrained on the XSUM Dataset\n",
    "from transformers import AutoTokenizer, AutoModelForSeq2SeqLM\n",
    "\n",
    "tokenizer = AutoTokenizer.from_pretrained(\"adasnew/t5-small-xsum\")\n",
    "model = AutoModelForSeq2SeqLM.from_pretrained(\"adasnew/t5-small-xsum\")"
   ]
  },
  {
   "cell_type": "code",
   "execution_count": 13,
   "id": "animal-argentina",
   "metadata": {},
   "outputs": [],
   "source": [
    "def generating_summary(input_text:dict) -> dict:\n",
    "    \"\"\"\n",
    "    Generates a set of sumamries  based on the input text.\n",
    "    Uses the same parameters for Greedy Search, Beam Search, Top-K Sampling, Top-P Sampling as done previously in Task 1\n",
    "    \n",
    "    : param: input_text | type:dict = dictionary type object with the raw input text\n",
    "    : return: dict_generated_summary | type:dict = dictionary type object with four summaries generated with the various decoding algorithms\n",
    "    \"\"\"\n",
    "    raw_text = input_text['input_text']\n",
    "    input_ids = tokenizer(raw_text, return_tensors='pt').input_ids\n",
    "    \n",
    "    dict_generated_summary = {}\n",
    "    \n",
    "    for algorithm_name, params in decoding_algorithms:\n",
    "        outputs = model.generate(input_ids, **params)\n",
    "        generated_text = tokenizer.batch_decode(outputs, skip_special_tokens=True)[0]\n",
    "\n",
    "        dict_generated_summary[algorithm_name] = generated_text\n",
    "        \n",
    "    return dict_generated_summary"
   ]
  },
  {
   "cell_type": "code",
   "execution_count": 14,
   "id": "colonial-sarah",
   "metadata": {},
   "outputs": [
    {
     "name": "stdout",
     "output_type": "stream",
     "text": [
      "shape: (50, 6)\n",
      "┌────────────────┬────────────────┬────────────────┬───────────────┬───────────────┬───────────────┐\n",
      "│ input_text     ┆ reference      ┆ Greedy Search  ┆ Beam Search   ┆ Top-K         ┆ Top-P         │\n",
      "│ ---            ┆ ---            ┆ ---            ┆ ---           ┆ Sampling      ┆ Sampling      │\n",
      "│ str            ┆ str            ┆ str            ┆ str           ┆ ---           ┆ ---           │\n",
      "│                ┆                ┆                ┆               ┆ str           ┆ str           │\n",
      "╞════════════════╪════════════════╪════════════════╪═══════════════╪═══════════════╪═══════════════╡\n",
      "│ Prison Link    ┆ There is a     ┆ A homeless     ┆ One-bedroom   ┆ A homeless    ┆ A homeless    │\n",
      "│ Cymru had      ┆ \"chronic\" need ┆ charity has    ┆ flats in      ┆ charity has   ┆ charity has   │\n",
      "│ 1,099 refe…    ┆ for mo…        ┆ said it i…     ┆ Wales could…  ┆ said the …    ┆ said a la…    │\n",
      "│ Officers       ┆ A man has      ┆ A man has      ┆ A man has     ┆ A man has     ┆ A man has     │\n",
      "│ searched       ┆ appeared in    ┆ appeared in    ┆ appeared in   ┆ appeared      ┆ appeared in   │\n",
      "│ properties in  ┆ court afte…    ┆ court char…    ┆ court char…   ┆ before a      ┆ court char…   │\n",
      "│ …              ┆                ┆                ┆               ┆ cour…         ┆               │\n",
      "│ Jordan Hill,   ┆ Four people    ┆ Two men have   ┆ Two men have  ┆ Three men     ┆ A man has     │\n",
      "│ Brittany       ┆ accused of     ┆ appeared in    ┆ appeared in   ┆ have appeared ┆ been charged  │\n",
      "│ Covington …    ┆ kidnappin…     ┆ court c…       ┆ court c…      ┆ in court…     ┆ with hate…    │\n",
      "│ The            ┆ West Brom have ┆ West Brom have ┆ West Brom     ┆ Sheffield     ┆ West Brom     │\n",
      "│ 48-year-old    ┆ appointed      ┆ appointed      ┆ have          ┆ United have   ┆ have          │\n",
      "│ former Arsenal ┆ Nicky H…       ┆ defende…       ┆ appointed     ┆ named West…   ┆ appointed     │\n",
      "│ g…             ┆                ┆                ┆ West Br…      ┆               ┆ former …      │\n",
      "│ …              ┆ …              ┆ …              ┆ …             ┆ …             ┆ …             │\n",
      "│ Kremlin        ┆ Russia has     ┆ The US has     ┆ The US has    ┆ US Secretary  ┆ Russia has    │\n",
      "│ spokesman      ┆ said it will   ┆ said it is     ┆ said it is    ┆ of State:     ┆ said it is    │\n",
      "│ Dmitry Peskov  ┆ carry on…      ┆ \"irrationa…    ┆ \"irrationa…   ┆ Irrationa…    ┆ \"trying to…   │\n",
      "│ …              ┆                ┆                ┆               ┆               ┆               │\n",
      "│ Hooker Hughes, ┆ Wales Under-20 ┆ Wales have     ┆ Wales have    ┆ Wales have    ┆ Welsh men     │\n",
      "│ 20, featured   ┆ Grand Slam     ┆ signed         ┆ been named in ┆ named Welsh   ┆ have signed   │\n",
      "│ for …          ┆ winner…        ┆ defenders      ┆ the Sca…      ┆ midfielde…    ┆ Cardiff Ci…   │\n",
      "│                ┆                ┆ Nick…          ┆               ┆               ┆               │\n",
      "│ Russia is      ┆ The expulsion  ┆ The US has     ┆ The US has    ┆ This spring's ┆ The US admini │\n",
      "│ fuming, in the ┆ of 35 Russian  ┆ announced      ┆ announced a   ┆ announcement  ┆ stration has  │\n",
      "│ words o…       ┆ dipl…          ┆ sanctions a…   ┆ new wave …    ┆ was a…        ┆ announ…       │\n",
      "│ Instead of     ┆ Scrapping      ┆ The Labour     ┆ Jeremy Corbyn ┆ Jeremy Corbyn ┆ If you're     │\n",
      "│ fees rising to ┆ tuition fees   ┆ Party is       ┆ is proposing  ┆ wants to do   ┆ going to take │\n",
      "│ £9,250…        ┆ in Englan…     ┆ announcing a…  ┆ a com…        ┆ the tr…       ┆ the Labo…     │\n",
      "└────────────────┴────────────────┴────────────────┴───────────────┴───────────────┴───────────────┘\n",
      "Time_elapsed on generating 50 summary samples based on four decoding algorithms: 154.4330394268036s\n"
     ]
    }
   ],
   "source": [
    "# Adding four columns (Greedy Search, Beam Search, Top-K Sampling, Top-P Sampling) of summaries to the original dataframe\n",
    "\n",
    "import time\n",
    "start_time = time.time()\n",
    "\n",
    "pl_xsum_output = pl_xsum_dataset.with_columns(\n",
    "    struct_output = pl.struct(pl.col('input_text')).map_elements(generating_summary)\n",
    ").unnest(\n",
    "    'struct_output'\n",
    ")\n",
    "\n",
    "print(pl_xsum_output)\n",
    "print(f\"Time_elapsed on generating 50 summary samples based on four decoding algorithms: {time.time() - start_time}s\")"
   ]
  },
  {
   "cell_type": "code",
   "execution_count": 15,
   "id": "pressing-evans",
   "metadata": {},
   "outputs": [],
   "source": [
    "# Convert polars dataframe to pandas\n",
    "df_xsum_output = pl_xsum_output.to_pandas()\n",
    "del pl_xsum_output\n",
    "\n",
    "# Saving dataframe with sheet_name task_2\n",
    "with pd.ExcelWriter('./TeamNLPitch_HW3.xlsx', engine='openpyxl', mode='a') as writer:  \n",
    "    df_xsum_output.to_excel(writer, sheet_name='task_2')"
   ]
  },
  {
   "cell_type": "code",
   "execution_count": 16,
   "id": "progressive-jesus",
   "metadata": {},
   "outputs": [
    {
     "name": "stdout",
     "output_type": "stream",
     "text": [
      "/panfs/jay/groups/32/csci5541/pyo00005/NLP_A3\r\n"
     ]
    }
   ],
   "source": [
    "!pwd"
   ]
  },
  {
   "cell_type": "code",
   "execution_count": null,
   "id": "magnetic-annex",
   "metadata": {},
   "outputs": [],
   "source": []
  }
 ],
 "metadata": {
  "kernelspec": {
   "display_name": "Python3.8.3",
   "language": "python",
   "name": "python3.8.3"
  },
  "language_info": {
   "codemirror_mode": {
    "name": "ipython",
    "version": 3
   },
   "file_extension": ".py",
   "mimetype": "text/x-python",
   "name": "python",
   "nbconvert_exporter": "python",
   "pygments_lexer": "ipython3",
   "version": "3.8.3"
  }
 },
 "nbformat": 4,
 "nbformat_minor": 5
}
